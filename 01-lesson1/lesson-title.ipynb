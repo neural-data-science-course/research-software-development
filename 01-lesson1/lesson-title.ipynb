{
 "cells": [
  {
   "cell_type": "code",
   "execution_count": 41,
   "metadata": {
    "tags": []
   },
   "outputs": [
    {
     "data": {
      "text/html": [
       "<style>body {\n",
       "  margin: 0;\n",
       "  padding: 0;\n",
       "  background: black;\n",
       "  color: white;\n",
       "}\n",
       "\n",
       ".title {\n",
       "  width: 100%;\n",
       "  background: rgb(50, 50, 50);\n",
       "}\n",
       "\n",
       ".title h1 {\n",
       "  text-align: center;\n",
       "  color: rgb(220, 120, 0);\n",
       "  font-family: Ubuntu;\n",
       "  padding: .3em;\n",
       "}\n",
       "\n",
       ".lesson_info {\n",
       "  width: 100%;\n",
       "  background: rgb(200, 210, 200);\n",
       "  padding: .3em;\n",
       "}\n",
       "</style>"
      ],
      "text/plain": [
       "<IPython.core.display.HTML object>"
      ]
     },
     "execution_count": 41,
     "metadata": {},
     "output_type": "execute_result"
    }
   ],
   "source": [
    "from IPython.core.display import HTML\n",
    "\n",
    "def _set_css_style(css_file_path):\n",
    "   \"\"\"\n",
    "   Read the custom CSS file and load it into Jupyter.\n",
    "   Pass the file path to the CSS file.\n",
    "   \"\"\"\n",
    "\n",
    "   styles = open(css_file_path, \"r\").read()\n",
    "   s = '<style>%s</style>' % styles     \n",
    "   return HTML(s)\n",
    "\n",
    "_set_css_style('../styles/custom.css')"
   ]
  },
  {
   "cell_type": "markdown",
   "metadata": {},
   "source": [
    "\n",
    "<div class=\"title\">\n",
    "\n",
    "# [Lesson name]\n",
    "</div>\n",
    "\n",
    "<div class=\"lesson_info\">\n",
    "\n",
    "Lesson time: XX m   \n",
    "Contributors: \n",
    "\n",
    "---\n",
    "### In this lesson you will learn:\n",
    "- point 1\n",
    "- point 2 ...\n",
    "\n",
    "</div>\n",
    "\n"
   ]
  },
  {
   "cell_type": "markdown",
   "metadata": {},
   "source": [
    "## Introduction\n",
    "---\n",
    " \n",
    "General introduction"
   ]
  },
  {
   "cell_type": "markdown",
   "metadata": {},
   "source": [
    "## [Topic 1]\n",
    "---\n",
    "Topic 1 theory"
   ]
  },
  {
   "cell_type": "markdown",
   "metadata": {},
   "source": [
    "### [Topic 1] in action: [example]\n",
    "---"
   ]
  },
  {
   "cell_type": "code",
   "execution_count": 35,
   "metadata": {},
   "outputs": [],
   "source": [
    "#code"
   ]
  },
  {
   "cell_type": "markdown",
   "metadata": {},
   "source": [
    "### [Neuroscientific example]\n",
    "---\n"
   ]
  },
  {
   "cell_type": "code",
   "execution_count": null,
   "metadata": {},
   "outputs": [],
   "source": [
    "# code"
   ]
  },
  {
   "cell_type": "markdown",
   "metadata": {},
   "source": [
    "## [Topic 2]\n",
    "---"
   ]
  },
  {
   "cell_type": "markdown",
   "metadata": {},
   "source": [
    "<div class=\"warning\" style='padding:0.5em; background-color:#f1f1f1;border:1px solid black;width:95%'>\n",
    "\n",
    "### Key points \n",
    "\n",
    "- key point 1\n",
    "- key point 2"
   ]
  },
  {
   "cell_type": "markdown",
   "metadata": {},
   "source": [
    "<div class=\"warning\" style='padding:0.5em; background-color:#f1f1f1;border:1px solid black;width:95%'>\n",
    "\n",
    "### References and resources\n",
    "\n",
    "**Books & papers**\n",
    "* Book 1\n",
    "\n",
    "**Websites & blogposts**\n",
    "* syte one\n",
    "\n",
    "**Software**\n",
    "* library 1\n",
    "\n"
   ]
  },
  {
   "cell_type": "markdown",
   "metadata": {},
   "source": [
    "## Exercises\n",
    "You can find the exercises for this lessons in [notebook name](notebook_link)"
   ]
  },
  {
   "cell_type": "markdown",
   "metadata": {},
   "source": []
  }
 ],
 "metadata": {
  "kernelspec": {
   "display_name": "Python 3 (ipykernel)",
   "language": "python",
   "name": "python3"
  },
  "language_info": {
   "codemirror_mode": {
    "name": "ipython",
    "version": 3
   },
   "file_extension": ".py",
   "mimetype": "text/x-python",
   "name": "python",
   "nbconvert_exporter": "python",
   "pygments_lexer": "ipython3",
   "version": "3.9.0"
  },
  "vscode": {
   "interpreter": {
    "hash": "ec757111aa82fc412dab5a41ba1a33fdb6db5c8112df3ff06fec0dbff050b412"
   }
  }
 },
 "nbformat": 4,
 "nbformat_minor": 4
}
